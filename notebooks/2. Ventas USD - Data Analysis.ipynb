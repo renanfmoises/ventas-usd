{
 "cells": [
  {
   "cell_type": "code",
   "execution_count": 1,
   "id": "weighted-involvement",
   "metadata": {},
   "outputs": [],
   "source": [
    "# Libs principales\n",
    "import pandas as pd\n",
    "import numpy as np\n",
    "\n",
    "# DataViz libs\n",
    "import matplotlib.pyplot as plt\n",
    "import seaborn as sns\n",
    "\n",
    "# Lib. Utiles\n",
    "from datetime import datetime\n",
    "\n",
    "# Setup del Notebooks\n",
    "import warnings\n",
    "warnings.filterwarnings('ignore')\n",
    "pd.set_option('display.max_columns', None)"
   ]
  },
  {
   "cell_type": "markdown",
   "id": "adolescent-covering",
   "metadata": {},
   "source": [
    "### Objetivos del Proyecto\n",
    "\n",
    "\n",
    "**Grupo Perfil Tecnico**\n",
    "- En Base al excel “Actividad Ventas en Dolares” identificar posibles análisis a realizar con los datos actuales.\n",
    "\n",
    "- Con qué problemas de calidad de datos nos encontramos y cómo podríamos resolverlos? \n",
    "\n",
    "- Calcular la venta en dólares para los distintos productos del total de la base y para los últimos 3 meses del 2020. Deben buscar una base externa para resolver esta cuestión. Adjuntar un excel con sus gráficos, resultados y base incorporada y fuente. Contestar: cómo resolvieron la normalización de los datos?\n",
    "\n",
    "- Hacer foco en cuestiones de negocios, qué decisiones **podemos** y **no podemos** tomar con la data actual? Qué información agregaría o recomendaría agregar?\n",
    "\n",
    "- Adjuntar excel con sus gráficos y resultados, y también un word con sus respuestas teóricas. "
   ]
  },
  {
   "cell_type": "code",
   "execution_count": 2,
   "id": "spoken-narrow",
   "metadata": {},
   "outputs": [],
   "source": [
    "ventas = pd.read_csv('../data/ventas_cleaned.csv')"
   ]
  },
  {
   "cell_type": "code",
   "execution_count": 4,
   "id": "isolated-tamil",
   "metadata": {},
   "outputs": [
    {
     "data": {
      "text/html": [
       "<div>\n",
       "<style scoped>\n",
       "    .dataframe tbody tr th:only-of-type {\n",
       "        vertical-align: middle;\n",
       "    }\n",
       "\n",
       "    .dataframe tbody tr th {\n",
       "        vertical-align: top;\n",
       "    }\n",
       "\n",
       "    .dataframe thead th {\n",
       "        text-align: right;\n",
       "    }\n",
       "</style>\n",
       "<table border=\"1\" class=\"dataframe\">\n",
       "  <thead>\n",
       "    <tr style=\"text-align: right;\">\n",
       "      <th></th>\n",
       "      <th>Delivery_Id</th>\n",
       "      <th>amount</th>\n",
       "      <th>quantity</th>\n",
       "      <th>units</th>\n",
       "      <th>subtitle</th>\n",
       "      <th>ean (identificador producto)</th>\n",
       "      <th>brand</th>\n",
       "      <th>retail_amount</th>\n",
       "      <th>fecha</th>\n",
       "      <th>weekday</th>\n",
       "      <th>currency</th>\n",
       "      <th>usd_retail_amount</th>\n",
       "      <th>revenue</th>\n",
       "    </tr>\n",
       "  </thead>\n",
       "  <tbody>\n",
       "    <tr>\n",
       "      <th>0</th>\n",
       "      <td>1</td>\n",
       "      <td>14.0</td>\n",
       "      <td>6</td>\n",
       "      <td>1</td>\n",
       "      <td>Coca-Cola Sabor Original</td>\n",
       "      <td>7501055300075</td>\n",
       "      <td>Coca-Cola Sabor Original</td>\n",
       "      <td>14.0</td>\n",
       "      <td>2020-07-08</td>\n",
       "      <td>Wed</td>\n",
       "      <td>MXN</td>\n",
       "      <td>0.614232</td>\n",
       "      <td>3.685390</td>\n",
       "    </tr>\n",
       "    <tr>\n",
       "      <th>1</th>\n",
       "      <td>1</td>\n",
       "      <td>14.0</td>\n",
       "      <td>6</td>\n",
       "      <td>1</td>\n",
       "      <td>Coca-Cola Sabor Original</td>\n",
       "      <td>7501055300075</td>\n",
       "      <td>Coca-Cola Sabor Original</td>\n",
       "      <td>14.0</td>\n",
       "      <td>2020-07-08</td>\n",
       "      <td>Wed</td>\n",
       "      <td>MXN</td>\n",
       "      <td>0.614232</td>\n",
       "      <td>3.685390</td>\n",
       "    </tr>\n",
       "    <tr>\n",
       "      <th>2</th>\n",
       "      <td>2</td>\n",
       "      <td>94.0</td>\n",
       "      <td>2</td>\n",
       "      <td>1</td>\n",
       "      <td>Marolio Duraznos en Mitades</td>\n",
       "      <td>7797470001998</td>\n",
       "      <td>Marolio</td>\n",
       "      <td>94.0</td>\n",
       "      <td>2020-07-08</td>\n",
       "      <td>Wed</td>\n",
       "      <td>ARS</td>\n",
       "      <td>1.326337</td>\n",
       "      <td>2.652673</td>\n",
       "    </tr>\n",
       "    <tr>\n",
       "      <th>3</th>\n",
       "      <td>2</td>\n",
       "      <td>205.0</td>\n",
       "      <td>1</td>\n",
       "      <td>1</td>\n",
       "      <td>Ala Lquido Lavarropas Baja Espuma</td>\n",
       "      <td>7791290787230</td>\n",
       "      <td>Ala</td>\n",
       "      <td>205.0</td>\n",
       "      <td>2020-07-08</td>\n",
       "      <td>Wed</td>\n",
       "      <td>ARS</td>\n",
       "      <td>2.892543</td>\n",
       "      <td>2.892543</td>\n",
       "    </tr>\n",
       "    <tr>\n",
       "      <th>4</th>\n",
       "      <td>2</td>\n",
       "      <td>97.0</td>\n",
       "      <td>1</td>\n",
       "      <td>1</td>\n",
       "      <td>Higienol Papel Higinico Simple Hoja</td>\n",
       "      <td>7790250014904</td>\n",
       "      <td>Higienol</td>\n",
       "      <td>97.0</td>\n",
       "      <td>2020-07-08</td>\n",
       "      <td>Wed</td>\n",
       "      <td>ARS</td>\n",
       "      <td>1.368667</td>\n",
       "      <td>1.368667</td>\n",
       "    </tr>\n",
       "  </tbody>\n",
       "</table>\n",
       "</div>"
      ],
      "text/plain": [
       "   Delivery_Id  amount  quantity  units                              subtitle  \\\n",
       "0            1    14.0         6      1            Coca-Cola Sabor Original     \n",
       "1            1    14.0         6      1            Coca-Cola Sabor Original     \n",
       "2            2    94.0         2      1          Marolio Duraznos en Mitades    \n",
       "3            2   205.0         1      1    Ala Lquido Lavarropas Baja Espuma    \n",
       "4            2    97.0         1      1  Higienol Papel Higinico Simple Hoja    \n",
       "\n",
       "  ean (identificador producto)                     brand  retail_amount  \\\n",
       "0                7501055300075  Coca-Cola Sabor Original           14.0   \n",
       "1                7501055300075  Coca-Cola Sabor Original           14.0   \n",
       "2                7797470001998                   Marolio           94.0   \n",
       "3                7791290787230                       Ala          205.0   \n",
       "4                7790250014904                  Higienol           97.0   \n",
       "\n",
       "        fecha weekday currency  usd_retail_amount   revenue  \n",
       "0  2020-07-08     Wed      MXN           0.614232  3.685390  \n",
       "1  2020-07-08     Wed      MXN           0.614232  3.685390  \n",
       "2  2020-07-08     Wed      ARS           1.326337  2.652673  \n",
       "3  2020-07-08     Wed      ARS           2.892543  2.892543  \n",
       "4  2020-07-08     Wed      ARS           1.368667  1.368667  "
      ]
     },
     "execution_count": 4,
     "metadata": {},
     "output_type": "execute_result"
    }
   ],
   "source": [
    "ventas.head()"
   ]
  },
  {
   "cell_type": "code",
   "execution_count": 16,
   "id": "engaged-token",
   "metadata": {},
   "outputs": [
    {
     "data": {
      "image/png": "[encoded data removed]",
      "text/plain": [
       "<Figure size 432x288 with 1 Axes>"
      ]
     },
     "metadata": {
      "needs_background": "light"
     },
     "output_type": "display_data"
    }
   ],
   "source": [
    "ventas.groupby(by = 'currency').sum()['revenue'].plot(kind = 'bar');"
   ]
  },
  {
   "cell_type": "code",
   "execution_count": null,
   "id": "capable-defeat",
   "metadata": {},
   "outputs": [],
   "source": []
  }
 ],
 "metadata": {
  "kernelspec": {
   "display_name": "Python 3",
   "language": "python",
   "name": "python3"
  },
  "language_info": {
   "codemirror_mode": {
    "name": "ipython",
    "version": 3
   },
   "file_extension": ".py",
   "mimetype": "text/x-python",
   "name": "python",
   "nbconvert_exporter": "python",
   "pygments_lexer": "ipython3",
   "version": "3.8.6"
  }
 },
 "nbformat": 4,
 "nbformat_minor": 5
}
